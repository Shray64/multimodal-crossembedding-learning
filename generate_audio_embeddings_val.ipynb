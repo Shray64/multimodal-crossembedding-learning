{
 "cells": [
  {
   "cell_type": "code",
   "execution_count": 23,
   "id": "885bcc2d",
   "metadata": {},
   "outputs": [],
   "source": [
    "import torch\n",
    "import torchaudio\n",
    "import os\n",
    "import requests\n",
    "import numpy as np\n",
    "import IPython\n",
    "import matplotlib.pyplot as plt\n",
    "from torchaudio.utils import download_asset"
   ]
  },
  {
   "cell_type": "code",
   "execution_count": 24,
   "id": "8e870d6f",
   "metadata": {},
   "outputs": [],
   "source": [
    "torch.random.manual_seed(0)\n",
    "device = torch.device(\"cuda\" if torch.cuda.is_available() else \"cpu\")"
   ]
  },
  {
   "cell_type": "code",
   "execution_count": 25,
   "id": "71328f25",
   "metadata": {},
   "outputs": [],
   "source": [
    "bundle = torchaudio.pipelines.WAV2VEC2_ASR_BASE_960H\n",
    "model = bundle.get_model().to(device)"
   ]
  },
  {
   "cell_type": "code",
   "execution_count": 26,
   "id": "305ff852",
   "metadata": {},
   "outputs": [],
   "source": [
    "def create_audio_embeddings(features):\n",
    "    audio_embed = torch.zeros([features[0].shape[1], features[0].shape[2]])\n",
    "    for feat in features:\n",
    "        audio_embed += torch.mean(feat, axis = 0)\n",
    "\n",
    "    audio_embed = audio_embed.mean(axis = 0)\n",
    "    return audio_embed"
   ]
  },
  {
   "cell_type": "code",
   "execution_count": 27,
   "id": "3f6865ee",
   "metadata": {},
   "outputs": [],
   "source": [
    "def extract_audio_feat(filename):\n",
    "    embeddings = []\n",
    "    i = 0\n",
    "    for file in os.listdir(filename):\n",
    "     # check the files which are end with specific extension\n",
    "        if file.endswith(\".wav\"):\n",
    "            # print path name of selected files\n",
    "            AUDIO_FILE = os.path.join(filename, file)\n",
    "            waveform, sample_rate = torchaudio.load(AUDIO_FILE)\n",
    "            waveform = waveform.to(device)\n",
    "\n",
    "            if sample_rate != bundle.sample_rate:\n",
    "                waveform = torchaudio.functional.resample(waveform, sample_rate, bundle.sample_rate)\n",
    "\n",
    "            with torch.inference_mode():\n",
    "                features, _ = model.extract_features(waveform)\n",
    "\n",
    "            embedding = create_audio_embeddings(features)\n",
    "            embeddings.append(embedding)\n",
    "            i = i+1\n",
    "            print(\"File \",i)\n",
    "            \n",
    "#             if i == 5:\n",
    "#                 break\n",
    "            \n",
    "            \n",
    "    return embeddings\n",
    "        "
   ]
  },
  {
   "cell_type": "code",
   "execution_count": 28,
   "id": "8171eeaf",
   "metadata": {},
   "outputs": [
    {
     "name": "stdout",
     "output_type": "stream",
     "text": [
      "File  1\n",
      "File  2\n",
      "File  3\n",
      "File  4\n",
      "File  5\n",
      "File  6\n",
      "File  7\n",
      "File  8\n",
      "File  9\n",
      "File  10\n",
      "File  11\n",
      "File  12\n",
      "File  13\n",
      "File  14\n",
      "File  15\n",
      "File  16\n",
      "File  17\n",
      "File  18\n",
      "File  19\n",
      "File  20\n",
      "File  21\n",
      "File  22\n",
      "File  23\n",
      "File  24\n",
      "File  25\n",
      "File  26\n",
      "File  27\n",
      "File  28\n",
      "File  29\n",
      "File  30\n",
      "File  31\n",
      "File  32\n",
      "File  33\n",
      "File  34\n",
      "File  35\n",
      "File  36\n",
      "File  37\n",
      "File  38\n",
      "File  39\n",
      "File  40\n",
      "File  41\n",
      "File  42\n",
      "File  43\n",
      "File  44\n",
      "File  45\n",
      "File  46\n",
      "File  47\n",
      "File  48\n",
      "File  49\n",
      "File  50\n",
      "File  51\n",
      "File  52\n",
      "File  53\n",
      "File  54\n",
      "File  55\n",
      "File  56\n",
      "File  57\n",
      "File  58\n",
      "File  59\n",
      "File  60\n",
      "File  61\n",
      "File  62\n",
      "File  63\n",
      "File  64\n",
      "File  65\n",
      "File  66\n",
      "File  67\n",
      "File  68\n",
      "File  69\n",
      "File  70\n",
      "File  71\n",
      "File  72\n",
      "File  73\n",
      "File  74\n",
      "File  75\n",
      "File  76\n",
      "File  77\n",
      "File  78\n",
      "File  79\n",
      "File  80\n",
      "File  81\n",
      "File  82\n",
      "File  83\n",
      "File  84\n",
      "File  85\n",
      "File  86\n",
      "File  87\n",
      "File  88\n",
      "File  89\n",
      "File  90\n",
      "File  91\n",
      "File  92\n",
      "File  93\n",
      "File  94\n",
      "File  95\n",
      "File  96\n",
      "File  97\n",
      "File  98\n",
      "File  99\n",
      "File  100\n",
      "File  101\n",
      "File  102\n",
      "File  103\n",
      "File  104\n",
      "File  105\n",
      "File  106\n",
      "File  107\n",
      "File  108\n"
     ]
    }
   ],
   "source": [
    "AUDIO_FILE = r'/Users/shraymathur/MyFolders/UT/Research/data/fewshot_val_audio'\n",
    "embeddings = extract_audio_feat(AUDIO_FILE)"
   ]
  },
  {
   "cell_type": "code",
   "execution_count": 43,
   "id": "4513f7cf",
   "metadata": {},
   "outputs": [],
   "source": [
    "# filename = r'/Users/shraymathur/MyFolders/UT/Research/data/fewshot_val_audio'\n",
    "# y_val = []\n",
    "# for file in os.listdir(filename):\n",
    "#     postindex = int(file[0:4])\n",
    "#     topic = fewshot_trn_labels[fewshot_trn_labels['PostIndex'] == postindex].iloc[0]['Topic']\n",
    "#     y_val.append(topic)"
   ]
  },
  {
   "cell_type": "code",
   "execution_count": 44,
   "id": "4e94adfd",
   "metadata": {},
   "outputs": [],
   "source": [
    "filename = r'/Users/shraymathur/MyFolders/UT/Research/data/fewshot_val_audio'\n",
    "y_val = []\n",
    "for file in os.listdir(filename):\n",
    "    postindex = int(file[0:4])\n",
    "    topic = fewshot_val_labels[fewshot_val_labels['PostIndex'] == postindex].iloc[0]['Topic']\n",
    "    y_val.append(topic)\n",
    "        "
   ]
  },
  {
   "cell_type": "code",
   "execution_count": 48,
   "id": "1007d597",
   "metadata": {},
   "outputs": [],
   "source": [
    "filenames = []\n",
    "for file in os.listdir(filename):\n",
    "     # check the files which are end with specific extension\n",
    "#     if file.endswith(\".wav\"):\n",
    "    filenames.append(file)"
   ]
  },
  {
   "cell_type": "code",
   "execution_count": 51,
   "id": "2df13bfa",
   "metadata": {},
   "outputs": [],
   "source": [
    "embeddings_dict = {\"embeddings\": embeddings, \"y_val\":y_val, \"filenames\": filenames}\n",
    "embedding_filename = os.path.join(\"../data/embeddings/{}_{}_embeddings.pt\".format('audio', 'val'))\n",
    "torch.save(embeddings_dict, embedding_filename)"
   ]
  },
  {
   "cell_type": "code",
   "execution_count": 53,
   "id": "1cbe2778",
   "metadata": {},
   "outputs": [
    {
     "data": {
      "text/plain": [
       "torch.Size([768])"
      ]
     },
     "execution_count": 53,
     "metadata": {},
     "output_type": "execute_result"
    }
   ],
   "source": [
    "embeddings[1].shape"
   ]
  },
  {
   "cell_type": "code",
   "execution_count": 28,
   "id": "f47c34f4",
   "metadata": {},
   "outputs": [],
   "source": [
    "SPEECH_FILE = '/Users/shraymathur/MyFolders/UT/Research/videos/video_url_1652095006662_6662_119dab67_1630573847545.wav'\n",
    "waveform, sample_rate = torchaudio.load(SPEECH_FILE)\n",
    "waveform = waveform.to(device)\n",
    "\n",
    "if sample_rate != bundle.sample_rate:\n",
    "    waveform = torchaudio.functional.resample(waveform, sample_rate, bundle.sample_rate)\n",
    "    \n",
    "with torch.inference_mode():\n",
    "    features, _ = model.extract_features(waveform)"
   ]
  },
  {
   "cell_type": "code",
   "execution_count": 31,
   "id": "cc792cef",
   "metadata": {},
   "outputs": [
    {
     "data": {
      "text/plain": [
       "torch.Size([2, 586, 768])"
      ]
     },
     "execution_count": 31,
     "metadata": {},
     "output_type": "execute_result"
    }
   ],
   "source": [
    "features[0].shape"
   ]
  },
  {
   "cell_type": "code",
   "execution_count": 29,
   "id": "c7689f8a",
   "metadata": {},
   "outputs": [],
   "source": [
    "audio_embed = torch.zeros([586, 768])\n",
    "for feat in features:\n",
    "    audio_embed += torch.mean(feat, axis = 0)\n",
    "\n",
    "audio_embed = audio_embed.mean(axis = 0)"
   ]
  },
  {
   "cell_type": "code",
   "execution_count": null,
   "id": "f78f643c",
   "metadata": {},
   "outputs": [],
   "source": [
    "audio_embed = torch.zeros([586, 768])\n",
    "for feat in features:\n",
    "    audio_embed += torch.mean(feat, axis = 0)\n",
    "\n",
    "audio_embed = audio_embed.mean(axis = 0)"
   ]
  },
  {
   "cell_type": "code",
   "execution_count": 7,
   "id": "e8b1fe6f",
   "metadata": {},
   "outputs": [
    {
     "name": "stdout",
     "output_type": "stream",
     "text": [
      "1\n",
      "2\n",
      "3\n",
      "4\n",
      "5\n",
      "6\n",
      "7\n",
      "8\n",
      "9\n",
      "10\n",
      "11\n",
      "12\n",
      "13\n",
      "14\n",
      "15\n",
      "16\n",
      "17\n",
      "18\n",
      "19\n",
      "20\n",
      "21\n",
      "22\n",
      "23\n",
      "24\n",
      "25\n",
      "26\n",
      "27\n",
      "28\n",
      "29\n",
      "30\n",
      "31\n",
      "32\n",
      "33\n",
      "34\n",
      "35\n",
      "36\n",
      "37\n",
      "38\n",
      "39\n",
      "40\n",
      "41\n",
      "42\n",
      "43\n",
      "44\n",
      "45\n",
      "46\n",
      "47\n",
      "48\n",
      "49\n",
      "50\n",
      "51\n",
      "52\n",
      "53\n",
      "54\n",
      "55\n",
      "56\n",
      "57\n",
      "58\n",
      "59\n",
      "60\n",
      "61\n",
      "62\n",
      "63\n",
      "64\n",
      "65\n",
      "66\n",
      "67\n",
      "68\n",
      "69\n",
      "70\n",
      "71\n",
      "72\n",
      "73\n",
      "74\n",
      "75\n",
      "76\n",
      "77\n",
      "78\n",
      "79\n",
      "80\n",
      "81\n",
      "82\n",
      "83\n",
      "84\n",
      "85\n",
      "86\n",
      "87\n",
      "88\n",
      "89\n",
      "90\n",
      "91\n",
      "92\n",
      "93\n",
      "94\n",
      "95\n",
      "96\n",
      "97\n",
      "98\n",
      "99\n",
      "100\n",
      "101\n",
      "102\n",
      "103\n",
      "104\n",
      "105\n",
      "106\n",
      "107\n",
      "108\n"
     ]
    }
   ],
   "source": [
    "i = 0\n",
    "for file in os.listdir(r'/Users/shraymathur/MyFolders/UT/Research/data/fewshot_trn_2'):\n",
    "     # check the files which are end with specific extension\n",
    "    if file.endswith(\".wav\"):\n",
    "        # print path name of selected files\n",
    "        i = i+1\n",
    "        print(i)\n",
    "        \n",
    "        \n"
   ]
  },
  {
   "cell_type": "code",
   "execution_count": 38,
   "id": "b8f7060a",
   "metadata": {},
   "outputs": [],
   "source": [
    "import pandas as pd\n",
    "fewshot_val_labels = pd.read_csv('/Users/shraymathur/MyFolders/UT/Sem2/ACV/fewshot-microvideo-recognition-main/data/fewshot_val_labels.csv')\n",
    "# fewshot_val_labels[fewshot_val_labels['PostIndex'] == 1010].iloc[0]['Topic']\n"
   ]
  },
  {
   "cell_type": "code",
   "execution_count": null,
   "id": "0aafdfb9",
   "metadata": {},
   "outputs": [],
   "source": []
  },
  {
   "cell_type": "code",
   "execution_count": 39,
   "id": "8b743177",
   "metadata": {},
   "outputs": [
    {
     "ename": "IndexError",
     "evalue": "single positional indexer is out-of-bounds",
     "output_type": "error",
     "traceback": [
      "\u001b[0;31m---------------------------------------------------------------------------\u001b[0m",
      "\u001b[0;31mIndexError\u001b[0m                                Traceback (most recent call last)",
      "Cell \u001b[0;32mIn[39], line 9\u001b[0m\n\u001b[1;32m      3\u001b[0m \u001b[38;5;28;01mfor\u001b[39;00m file \u001b[38;5;129;01min\u001b[39;00m os\u001b[38;5;241m.\u001b[39mlistdir(filename):\n\u001b[1;32m      4\u001b[0m      \u001b[38;5;66;03m# check the files which are end with specific extension\u001b[39;00m\n\u001b[1;32m      5\u001b[0m \u001b[38;5;66;03m#     if file.endswith(\".wav\"):\u001b[39;00m\n\u001b[1;32m      6\u001b[0m         \u001b[38;5;66;03m# print path name of selected files\u001b[39;00m\n\u001b[1;32m      7\u001b[0m \u001b[38;5;66;03m#         print(os.path.join(filename, file))\u001b[39;00m\n\u001b[1;32m      8\u001b[0m     postindex \u001b[38;5;241m=\u001b[39m \u001b[38;5;28mint\u001b[39m(file[\u001b[38;5;241m0\u001b[39m:\u001b[38;5;241m4\u001b[39m])\n\u001b[0;32m----> 9\u001b[0m     topic \u001b[38;5;241m=\u001b[39m \u001b[43mfewshot_trn_labels\u001b[49m\u001b[43m[\u001b[49m\u001b[43mfewshot_trn_labels\u001b[49m\u001b[43m[\u001b[49m\u001b[38;5;124;43m'\u001b[39;49m\u001b[38;5;124;43mPostIndex\u001b[39;49m\u001b[38;5;124;43m'\u001b[39;49m\u001b[43m]\u001b[49m\u001b[43m \u001b[49m\u001b[38;5;241;43m==\u001b[39;49m\u001b[43m \u001b[49m\u001b[43mpostindex\u001b[49m\u001b[43m]\u001b[49m\u001b[38;5;241;43m.\u001b[39;49m\u001b[43miloc\u001b[49m\u001b[43m[\u001b[49m\u001b[38;5;241;43m0\u001b[39;49m\u001b[43m]\u001b[49m[\u001b[38;5;124m'\u001b[39m\u001b[38;5;124mTopic\u001b[39m\u001b[38;5;124m'\u001b[39m]\n\u001b[1;32m     10\u001b[0m     y_val\u001b[38;5;241m.\u001b[39mappend(topic)\n",
      "File \u001b[0;32m~/opt/anaconda3/envs/mmaudio/lib/python3.8/site-packages/pandas/core/indexing.py:967\u001b[0m, in \u001b[0;36m_LocationIndexer.__getitem__\u001b[0;34m(self, key)\u001b[0m\n\u001b[1;32m    964\u001b[0m axis \u001b[38;5;241m=\u001b[39m \u001b[38;5;28mself\u001b[39m\u001b[38;5;241m.\u001b[39maxis \u001b[38;5;129;01mor\u001b[39;00m \u001b[38;5;241m0\u001b[39m\n\u001b[1;32m    966\u001b[0m maybe_callable \u001b[38;5;241m=\u001b[39m com\u001b[38;5;241m.\u001b[39mapply_if_callable(key, \u001b[38;5;28mself\u001b[39m\u001b[38;5;241m.\u001b[39mobj)\n\u001b[0;32m--> 967\u001b[0m \u001b[38;5;28;01mreturn\u001b[39;00m \u001b[38;5;28;43mself\u001b[39;49m\u001b[38;5;241;43m.\u001b[39;49m\u001b[43m_getitem_axis\u001b[49m\u001b[43m(\u001b[49m\u001b[43mmaybe_callable\u001b[49m\u001b[43m,\u001b[49m\u001b[43m \u001b[49m\u001b[43maxis\u001b[49m\u001b[38;5;241;43m=\u001b[39;49m\u001b[43maxis\u001b[49m\u001b[43m)\u001b[49m\n",
      "File \u001b[0;32m~/opt/anaconda3/envs/mmaudio/lib/python3.8/site-packages/pandas/core/indexing.py:1520\u001b[0m, in \u001b[0;36m_iLocIndexer._getitem_axis\u001b[0;34m(self, key, axis)\u001b[0m\n\u001b[1;32m   1517\u001b[0m     \u001b[38;5;28;01mraise\u001b[39;00m \u001b[38;5;167;01mTypeError\u001b[39;00m(\u001b[38;5;124m\"\u001b[39m\u001b[38;5;124mCannot index by location index with a non-integer key\u001b[39m\u001b[38;5;124m\"\u001b[39m)\n\u001b[1;32m   1519\u001b[0m \u001b[38;5;66;03m# validate the location\u001b[39;00m\n\u001b[0;32m-> 1520\u001b[0m \u001b[38;5;28;43mself\u001b[39;49m\u001b[38;5;241;43m.\u001b[39;49m\u001b[43m_validate_integer\u001b[49m\u001b[43m(\u001b[49m\u001b[43mkey\u001b[49m\u001b[43m,\u001b[49m\u001b[43m \u001b[49m\u001b[43maxis\u001b[49m\u001b[43m)\u001b[49m\n\u001b[1;32m   1522\u001b[0m \u001b[38;5;28;01mreturn\u001b[39;00m \u001b[38;5;28mself\u001b[39m\u001b[38;5;241m.\u001b[39mobj\u001b[38;5;241m.\u001b[39m_ixs(key, axis\u001b[38;5;241m=\u001b[39maxis)\n",
      "File \u001b[0;32m~/opt/anaconda3/envs/mmaudio/lib/python3.8/site-packages/pandas/core/indexing.py:1452\u001b[0m, in \u001b[0;36m_iLocIndexer._validate_integer\u001b[0;34m(self, key, axis)\u001b[0m\n\u001b[1;32m   1450\u001b[0m len_axis \u001b[38;5;241m=\u001b[39m \u001b[38;5;28mlen\u001b[39m(\u001b[38;5;28mself\u001b[39m\u001b[38;5;241m.\u001b[39mobj\u001b[38;5;241m.\u001b[39m_get_axis(axis))\n\u001b[1;32m   1451\u001b[0m \u001b[38;5;28;01mif\u001b[39;00m key \u001b[38;5;241m>\u001b[39m\u001b[38;5;241m=\u001b[39m len_axis \u001b[38;5;129;01mor\u001b[39;00m key \u001b[38;5;241m<\u001b[39m \u001b[38;5;241m-\u001b[39mlen_axis:\n\u001b[0;32m-> 1452\u001b[0m     \u001b[38;5;28;01mraise\u001b[39;00m \u001b[38;5;167;01mIndexError\u001b[39;00m(\u001b[38;5;124m\"\u001b[39m\u001b[38;5;124msingle positional indexer is out-of-bounds\u001b[39m\u001b[38;5;124m\"\u001b[39m)\n",
      "\u001b[0;31mIndexError\u001b[0m: single positional indexer is out-of-bounds"
     ]
    }
   ],
   "source": [
    "filename = r'/Users/shraymathur/MyFolders/UT/Research/data/fewshot_val_audio'\n",
    "y_val = []\n",
    "for file in os.listdir(filename):\n",
    "     # check the files which are end with specific extension\n",
    "#     if file.endswith(\".wav\"):\n",
    "        # print path name of selected files\n",
    "#         print(os.path.join(filename, file))\n",
    "    postindex = int(file[0:4])\n",
    "    topic = fewshot_trn_labels[fewshot_trn_labels['PostIndex'] == postindex].iloc[0]['Topic']\n",
    "    y_val.append(topic)\n",
    "        \n",
    "        \n",
    "        \n"
   ]
  },
  {
   "cell_type": "code",
   "execution_count": 42,
   "id": "57f10f59",
   "metadata": {},
   "outputs": [],
   "source": [
    "filename = r'/Users/shraymathur/MyFolders/UT/Research/data/fewshot_val_audio'\n",
    "y_val = []\n",
    "for file in os.listdir(filename):\n",
    "     # check the files which are end with specific extension\n",
    "#     if file.endswith(\".wav\"):\n",
    "        # print path name of selected files\n",
    "#         print(os.path.join(filename, file))\n",
    "    postindex = int(file[0:4])\n",
    "    topic = fewshot_val_labels[fewshot_val_labels['PostIndex'] == postindex].iloc[0]['Topic']\n",
    "    y_val.append(topic)\n",
    "        \n",
    "        \n",
    "        \n"
   ]
  },
  {
   "cell_type": "code",
   "execution_count": null,
   "id": "87d0dde2",
   "metadata": {},
   "outputs": [],
   "source": []
  }
 ],
 "metadata": {
  "kernelspec": {
   "display_name": "Python 3 (ipykernel)",
   "language": "python",
   "name": "python3"
  },
  "language_info": {
   "codemirror_mode": {
    "name": "ipython",
    "version": 3
   },
   "file_extension": ".py",
   "mimetype": "text/x-python",
   "name": "python",
   "nbconvert_exporter": "python",
   "pygments_lexer": "ipython3",
   "version": "3.8.16"
  }
 },
 "nbformat": 4,
 "nbformat_minor": 5
}
